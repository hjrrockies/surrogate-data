{
 "cells": [
  {
   "cell_type": "code",
   "execution_count": 4,
   "id": "722e2964",
   "metadata": {},
   "outputs": [],
   "source": [
    "import numpy as np\n",
    "import sklearn.gaussian_process as gp\n",
    "import scipy.linalg as la\n",
    "import matplotlib.pyplot as plt\n",
    "import gp_regression as gpr\n",
    "from scipy.io import loadmat\n",
    "from scipy.integrate import solve_ivp"
   ]
  },
  {
   "cell_type": "code",
   "execution_count": 5,
   "id": "3db361c1",
   "metadata": {},
   "outputs": [],
   "source": [
    "def lotka_volterra(t,y,a,b,c,d):\n",
    "    dy = np.empty_like(y)\n",
    "    # switched to match\n",
    "    dy[0] = d*y[0]*y[1]-c*y[0]\n",
    "    dy[1] = a*y[1]-b*y[0]*y[1]\n",
    "    return dy\n",
    "\n",
    "def solve_lv(T,y0,a,b,c,d):\n",
    "    sol = solve_ivp(lotka_volterra,(T[0],T[-1]),y0,t_eval=T,args=(a,b,c,d))\n",
    "    return sol.y"
   ]
  },
  {
   "cell_type": "code",
   "execution_count": null,
   "id": "574ef8b0",
   "metadata": {},
   "outputs": [],
   "source": []
  }
 ],
 "metadata": {
  "kernelspec": {
   "display_name": "Python 3",
   "language": "python",
   "name": "python3"
  },
  "language_info": {
   "codemirror_mode": {
    "name": "ipython",
    "version": 3
   },
   "file_extension": ".py",
   "mimetype": "text/x-python",
   "name": "python",
   "nbconvert_exporter": "python",
   "pygments_lexer": "ipython3",
   "version": "3.8.10"
  }
 },
 "nbformat": 4,
 "nbformat_minor": 5
}
